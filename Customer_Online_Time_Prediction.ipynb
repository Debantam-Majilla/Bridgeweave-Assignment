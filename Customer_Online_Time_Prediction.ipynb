{
  "nbformat": 4,
  "nbformat_minor": 0,
  "metadata": {
    "colab": {
      "name": "Customer Online Time Prediction.ipynb",
      "provenance": [],
      "collapsed_sections": [],
      "authorship_tag": "ABX9TyNSqALTtqj9bymuz9wmYBg6",
      "include_colab_link": true
    },
    "kernelspec": {
      "name": "python3",
      "display_name": "Python 3"
    },
    "language_info": {
      "name": "python"
    },
    "accelerator": "GPU"
  },
  "cells": [
    {
      "cell_type": "markdown",
      "metadata": {
        "id": "view-in-github",
        "colab_type": "text"
      },
      "source": [
        "<a href=\"https://colab.research.google.com/github/Debantam-Majilla/Bridgeweave-Assignment/blob/main/Customer_Online_Time_Prediction.ipynb\" target=\"_parent\"><img src=\"https://colab.research.google.com/assets/colab-badge.svg\" alt=\"Open In Colab\"/></a>"
      ]
    },
    {
      "cell_type": "code",
      "metadata": {
        "colab": {
          "base_uri": "https://localhost:8080/"
        },
        "id": "za3c4KnKrRpp",
        "outputId": "a2022aa4-5df8-4963-dd12-8524391f4d59"
      },
      "source": [
        "import warnings                        # To ignore any warnings\n",
        "warnings.filterwarnings(\"ignore\")\n",
        "%matplotlib inline\n",
        "%pylab inline\n",
        "\n",
        "import os\n",
        "import pandas as pd\n",
        "import numpy as np\n",
        "\n",
        "import glob \n",
        "import matplotlib.pyplot as plt\n",
        "import seaborn as sns\n",
        "%config InlineBackend.figure_format = 'retina'"
      ],
      "execution_count": null,
      "outputs": [
        {
          "output_type": "stream",
          "text": [
            "Populating the interactive namespace from numpy and matplotlib\n"
          ],
          "name": "stdout"
        }
      ]
    },
    {
      "cell_type": "markdown",
      "metadata": {
        "id": "jS8kgYdYOrVj"
      },
      "source": [
        "**Importing Customer Dataset**\n"
      ]
    },
    {
      "cell_type": "code",
      "metadata": {
        "colab": {
          "base_uri": "https://localhost:8080/"
        },
        "id": "q18ZJiLzr9Fe",
        "outputId": "eac1eea1-3dd7-4fd9-ee8c-ed1945099825"
      },
      "source": [
        "customer=pd.read_csv(\"/customers.csv\")\n",
        "print(\"Shape of customers table :\",customer.shape)\n",
        "print(\"\\n\")\n",
        "print(customer.head())"
      ],
      "execution_count": null,
      "outputs": [
        {
          "output_type": "stream",
          "text": [
            "Shape of customers table : (2500, 4)\n",
            "\n",
            "\n",
            "       id gender  age  number_of_kids\n",
            "0  979863   MALE   26               2\n",
            "1  780123   MALE   60               2\n",
            "2  614848   MALE   45               4\n",
            "3  775046   MALE   62               3\n",
            "4  991601   MALE   23               0\n"
          ],
          "name": "stdout"
        }
      ]
    },
    {
      "cell_type": "markdown",
      "metadata": {
        "id": "1uU86T4ePHa7"
      },
      "source": [
        "**Checking for any null values.**\n",
        "\n",
        "-Turns out- No null values .Customer Data is well structured."
      ]
    },
    {
      "cell_type": "code",
      "metadata": {
        "colab": {
          "base_uri": "https://localhost:8080/"
        },
        "id": "um5ViZ9NO9jH",
        "outputId": "6167f83d-21f2-4a1a-be03-7ced5d626a3e"
      },
      "source": [
        "customer.isnull().sum()"
      ],
      "execution_count": null,
      "outputs": [
        {
          "output_type": "execute_result",
          "data": {
            "text/plain": [
              "id                0\n",
              "gender            0\n",
              "age               0\n",
              "number_of_kids    0\n",
              "dtype: int64"
            ]
          },
          "metadata": {
            "tags": []
          },
          "execution_count": 87
        }
      ]
    },
    {
      "cell_type": "markdown",
      "metadata": {
        "id": "Fy9j_HpIQTvP"
      },
      "source": [
        "Importing ping dataset \n",
        "\n",
        "\n",
        "1.   **Timestamps need to convert to Datetime format.**\n",
        "2.   **We can segment hour portion from datetime format**\n",
        "3.   **We can understand On which hour of days, most log-ins happened.**\n",
        "4.   **We can use No of Logins at past for each id ,to be a feature of our prediction.**\n",
        "\n"
      ]
    },
    {
      "cell_type": "code",
      "metadata": {
        "id": "vbhIidsGuGZU",
        "colab": {
          "base_uri": "https://localhost:8080/"
        },
        "outputId": "77a22d45-35b2-4147-852c-969ea3e3cbcf"
      },
      "source": [
        "ping=pd.read_csv(\"/content/sample_data/pings.csv\")\n",
        "print(\"Shape of customers table :\",ping.shape)\n",
        "print(\"\\n\")\n",
        "\n",
        "#ping1 is for later use\n",
        "ping1=ping"
      ],
      "execution_count": null,
      "outputs": [
        {
          "output_type": "stream",
          "text": [
            "Shape of customers table : (9029404, 2)\n",
            "\n",
            "\n"
          ],
          "name": "stdout"
        }
      ]
    },
    {
      "cell_type": "code",
      "metadata": {
        "id": "7XpjcZG6ymKk"
      },
      "source": [
        "import dateutil.parser\n",
        "## convert the timestamp to a python date object \n",
        "ping['Time'] = list(map(lambda v : datetime.datetime.fromtimestamp(v).strftime('%Y-%m-%d %H:%M:%S'), ping['timestamp']))\n",
        "ping['times'] = list(map(dateutil.parser.parse, ping['Time']))\n",
        "\n",
        "ping['hour'] = list(map(lambda v : v.hour, ping['times']))\n",
        "ping['day'] = list(map(lambda v : v.day, ping['times']))\n",
        "ping.head()"
      ],
      "execution_count": null,
      "outputs": []
    },
    {
      "cell_type": "markdown",
      "metadata": {
        "id": "QG0XRO-iR1C-"
      },
      "source": [
        "**Below cell is giving us- Mostly users loggedin at 2PM or 3 PM of any day.**"
      ]
    },
    {
      "cell_type": "code",
      "metadata": {
        "colab": {
          "base_uri": "https://localhost:8080/",
          "height": 173
        },
        "id": "8f5vQJaCzUPO",
        "outputId": "355caf9d-7cb0-489f-8884-37f398f8bf5d"
      },
      "source": [
        "aggregatedData = ping[[\"hour\",\"day\",\"id\"]].groupby(['hour', 'day']).agg(['count'])\n",
        "    \n",
        "aggregatedData = aggregatedData.reset_index()\n",
        "aggregatedData.columns = ['hour','day','app_openings']\n",
        "aggregatedData\n",
        "\n",
        "#From this we can understand that users generrally logs in to our app mostly at 2PM or 3 PM"
      ],
      "execution_count": null,
      "outputs": [
        {
          "output_type": "execute_result",
          "data": {
            "text/html": [
              "<div>\n",
              "<style scoped>\n",
              "    .dataframe tbody tr th:only-of-type {\n",
              "        vertical-align: middle;\n",
              "    }\n",
              "\n",
              "    .dataframe tbody tr th {\n",
              "        vertical-align: top;\n",
              "    }\n",
              "\n",
              "    .dataframe thead th {\n",
              "        text-align: right;\n",
              "    }\n",
              "</style>\n",
              "<table border=\"1\" class=\"dataframe\">\n",
              "  <thead>\n",
              "    <tr style=\"text-align: right;\">\n",
              "      <th></th>\n",
              "      <th>hour</th>\n",
              "      <th>day</th>\n",
              "      <th>app_openings</th>\n",
              "    </tr>\n",
              "  </thead>\n",
              "  <tbody>\n",
              "    <tr>\n",
              "      <th>0</th>\n",
              "      <td>1</td>\n",
              "      <td>1</td>\n",
              "      <td>54871</td>\n",
              "    </tr>\n",
              "    <tr>\n",
              "      <th>1</th>\n",
              "      <td>2</td>\n",
              "      <td>1</td>\n",
              "      <td>174913</td>\n",
              "    </tr>\n",
              "    <tr>\n",
              "      <th>2</th>\n",
              "      <td>3</td>\n",
              "      <td>1</td>\n",
              "      <td>177994</td>\n",
              "    </tr>\n",
              "    <tr>\n",
              "      <th>3</th>\n",
              "      <td>4</td>\n",
              "      <td>23</td>\n",
              "      <td>1</td>\n",
              "    </tr>\n",
              "  </tbody>\n",
              "</table>\n",
              "</div>"
            ],
            "text/plain": [
              "   hour  day  app_openings\n",
              "0     1    1         54871\n",
              "1     2    1        174913\n",
              "2     3    1        177994\n",
              "3     4   23             1"
            ]
          },
          "metadata": {
            "tags": []
          },
          "execution_count": 21
        }
      ]
    },
    {
      "cell_type": "markdown",
      "metadata": {
        "id": "eRcJkG6ZSIgi"
      },
      "source": [
        "**Taking No of Log-in per ID as a feature for our model**"
      ]
    },
    {
      "cell_type": "code",
      "metadata": {
        "id": "YCEzJlUavMbF",
        "colab": {
          "base_uri": "https://localhost:8080/",
          "height": 419
        },
        "outputId": "bfbc8b73-3313-4f27-9ac0-c06a84e52a11"
      },
      "source": [
        "no_logins=ping1.groupby([\"id\"])[\"timestamp\"].count().reset_index()\n",
        "no_logins.columns=[\"id\",\"No_Of_Past_logins\"]\n",
        "no_logins"
      ],
      "execution_count": null,
      "outputs": [
        {
          "output_type": "execute_result",
          "data": {
            "text/html": [
              "<div>\n",
              "<style scoped>\n",
              "    .dataframe tbody tr th:only-of-type {\n",
              "        vertical-align: middle;\n",
              "    }\n",
              "\n",
              "    .dataframe tbody tr th {\n",
              "        vertical-align: top;\n",
              "    }\n",
              "\n",
              "    .dataframe thead th {\n",
              "        text-align: right;\n",
              "    }\n",
              "</style>\n",
              "<table border=\"1\" class=\"dataframe\">\n",
              "  <thead>\n",
              "    <tr style=\"text-align: right;\">\n",
              "      <th></th>\n",
              "      <th>id</th>\n",
              "      <th>No_Of_Past_logins</th>\n",
              "    </tr>\n",
              "  </thead>\n",
              "  <tbody>\n",
              "    <tr>\n",
              "      <th>0</th>\n",
              "      <td>111556</td>\n",
              "      <td>1202</td>\n",
              "    </tr>\n",
              "    <tr>\n",
              "      <th>1</th>\n",
              "      <td>111575</td>\n",
              "      <td>1636</td>\n",
              "    </tr>\n",
              "    <tr>\n",
              "      <th>2</th>\n",
              "      <td>111779</td>\n",
              "      <td>1588</td>\n",
              "    </tr>\n",
              "    <tr>\n",
              "      <th>3</th>\n",
              "      <td>111839</td>\n",
              "      <td>7824</td>\n",
              "    </tr>\n",
              "    <tr>\n",
              "      <th>4</th>\n",
              "      <td>112486</td>\n",
              "      <td>1613</td>\n",
              "    </tr>\n",
              "    <tr>\n",
              "      <th>...</th>\n",
              "      <td>...</td>\n",
              "      <td>...</td>\n",
              "    </tr>\n",
              "    <tr>\n",
              "      <th>2470</th>\n",
              "      <td>997190</td>\n",
              "      <td>2306</td>\n",
              "    </tr>\n",
              "    <tr>\n",
              "      <th>2471</th>\n",
              "      <td>997500</td>\n",
              "      <td>4090</td>\n",
              "    </tr>\n",
              "    <tr>\n",
              "      <th>2472</th>\n",
              "      <td>997510</td>\n",
              "      <td>5161</td>\n",
              "    </tr>\n",
              "    <tr>\n",
              "      <th>2473</th>\n",
              "      <td>998215</td>\n",
              "      <td>2273</td>\n",
              "    </tr>\n",
              "    <tr>\n",
              "      <th>2474</th>\n",
              "      <td>998229</td>\n",
              "      <td>5423</td>\n",
              "    </tr>\n",
              "  </tbody>\n",
              "</table>\n",
              "<p>2475 rows × 2 columns</p>\n",
              "</div>"
            ],
            "text/plain": [
              "          id  No_Of_Past_logins\n",
              "0     111556               1202\n",
              "1     111575               1636\n",
              "2     111779               1588\n",
              "3     111839               7824\n",
              "4     112486               1613\n",
              "...      ...                ...\n",
              "2470  997190               2306\n",
              "2471  997500               4090\n",
              "2472  997510               5161\n",
              "2473  998215               2273\n",
              "2474  998229               5423\n",
              "\n",
              "[2475 rows x 2 columns]"
            ]
          },
          "metadata": {
            "tags": []
          },
          "execution_count": 34
        }
      ]
    },
    {
      "cell_type": "markdown",
      "metadata": {
        "id": "sWONGnm8SfDp"
      },
      "source": [
        "**Importing test dataset (supervised dataset)**"
      ]
    },
    {
      "cell_type": "code",
      "metadata": {
        "colab": {
          "base_uri": "https://localhost:8080/",
          "height": 419
        },
        "id": "RN8KIp3nvMee",
        "outputId": "1c85244e-43fb-4323-9d20-9757ff3d4923"
      },
      "source": [
        "test=pd.read_csv(\"/test.csv\")\n",
        "test"
      ],
      "execution_count": null,
      "outputs": [
        {
          "output_type": "execute_result",
          "data": {
            "text/html": [
              "<div>\n",
              "<style scoped>\n",
              "    .dataframe tbody tr th:only-of-type {\n",
              "        vertical-align: middle;\n",
              "    }\n",
              "\n",
              "    .dataframe tbody tr th {\n",
              "        vertical-align: top;\n",
              "    }\n",
              "\n",
              "    .dataframe thead th {\n",
              "        text-align: right;\n",
              "    }\n",
              "</style>\n",
              "<table border=\"1\" class=\"dataframe\">\n",
              "  <thead>\n",
              "    <tr style=\"text-align: right;\">\n",
              "      <th></th>\n",
              "      <th>id</th>\n",
              "      <th>date</th>\n",
              "      <th>online_hours</th>\n",
              "    </tr>\n",
              "  </thead>\n",
              "  <tbody>\n",
              "    <tr>\n",
              "      <th>0</th>\n",
              "      <td>979863</td>\n",
              "      <td>28/06/17</td>\n",
              "      <td>7</td>\n",
              "    </tr>\n",
              "    <tr>\n",
              "      <th>1</th>\n",
              "      <td>979863</td>\n",
              "      <td>27/06/17</td>\n",
              "      <td>9</td>\n",
              "    </tr>\n",
              "    <tr>\n",
              "      <th>2</th>\n",
              "      <td>979863</td>\n",
              "      <td>26/06/17</td>\n",
              "      <td>9</td>\n",
              "    </tr>\n",
              "    <tr>\n",
              "      <th>3</th>\n",
              "      <td>979863</td>\n",
              "      <td>25/06/17</td>\n",
              "      <td>10</td>\n",
              "    </tr>\n",
              "    <tr>\n",
              "      <th>4</th>\n",
              "      <td>979863</td>\n",
              "      <td>24/06/17</td>\n",
              "      <td>9</td>\n",
              "    </tr>\n",
              "    <tr>\n",
              "      <th>...</th>\n",
              "      <td>...</td>\n",
              "      <td>...</td>\n",
              "      <td>...</td>\n",
              "    </tr>\n",
              "    <tr>\n",
              "      <th>17495</th>\n",
              "      <td>165666</td>\n",
              "      <td>26/06/17</td>\n",
              "      <td>7</td>\n",
              "    </tr>\n",
              "    <tr>\n",
              "      <th>17496</th>\n",
              "      <td>165666</td>\n",
              "      <td>25/06/17</td>\n",
              "      <td>7</td>\n",
              "    </tr>\n",
              "    <tr>\n",
              "      <th>17497</th>\n",
              "      <td>165666</td>\n",
              "      <td>24/06/17</td>\n",
              "      <td>10</td>\n",
              "    </tr>\n",
              "    <tr>\n",
              "      <th>17498</th>\n",
              "      <td>165666</td>\n",
              "      <td>23/06/17</td>\n",
              "      <td>6</td>\n",
              "    </tr>\n",
              "    <tr>\n",
              "      <th>17499</th>\n",
              "      <td>165666</td>\n",
              "      <td>22/06/17</td>\n",
              "      <td>10</td>\n",
              "    </tr>\n",
              "  </tbody>\n",
              "</table>\n",
              "<p>17500 rows × 3 columns</p>\n",
              "</div>"
            ],
            "text/plain": [
              "           id      date  online_hours\n",
              "0      979863  28/06/17             7\n",
              "1      979863  27/06/17             9\n",
              "2      979863  26/06/17             9\n",
              "3      979863  25/06/17            10\n",
              "4      979863  24/06/17             9\n",
              "...       ...       ...           ...\n",
              "17495  165666  26/06/17             7\n",
              "17496  165666  25/06/17             7\n",
              "17497  165666  24/06/17            10\n",
              "17498  165666  23/06/17             6\n",
              "17499  165666  22/06/17            10\n",
              "\n",
              "[17500 rows x 3 columns]"
            ]
          },
          "metadata": {
            "tags": []
          },
          "execution_count": 7
        }
      ]
    },
    {
      "cell_type": "markdown",
      "metadata": {
        "id": "vuYCFQ5aiRLP"
      },
      "source": [
        "**Merging Customer table , Test Table & newly generated No of Log_in table for each ID**"
      ]
    },
    {
      "cell_type": "code",
      "metadata": {
        "colab": {
          "base_uri": "https://localhost:8080/",
          "height": 419
        },
        "id": "SKHc0PoEvTH1",
        "outputId": "911c8d1c-80d8-491c-81a0-1b310f796ec9"
      },
      "source": [
        "df1=pd.merge(customer,test)\n",
        "\n",
        "import datetime as dt\n",
        "df1['Date'] = pd.to_datetime(df1['date'])\n",
        "\n",
        "final=pd.merge(no_logins,df1).iloc[:,[0,2,3,4,7,1,6]]\n",
        "final"
      ],
      "execution_count": null,
      "outputs": [
        {
          "output_type": "execute_result",
          "data": {
            "text/html": [
              "<div>\n",
              "<style scoped>\n",
              "    .dataframe tbody tr th:only-of-type {\n",
              "        vertical-align: middle;\n",
              "    }\n",
              "\n",
              "    .dataframe tbody tr th {\n",
              "        vertical-align: top;\n",
              "    }\n",
              "\n",
              "    .dataframe thead th {\n",
              "        text-align: right;\n",
              "    }\n",
              "</style>\n",
              "<table border=\"1\" class=\"dataframe\">\n",
              "  <thead>\n",
              "    <tr style=\"text-align: right;\">\n",
              "      <th></th>\n",
              "      <th>id</th>\n",
              "      <th>gender</th>\n",
              "      <th>age</th>\n",
              "      <th>number_of_kids</th>\n",
              "      <th>Date</th>\n",
              "      <th>No_Of_Past_logins</th>\n",
              "      <th>online_hours</th>\n",
              "    </tr>\n",
              "  </thead>\n",
              "  <tbody>\n",
              "    <tr>\n",
              "      <th>0</th>\n",
              "      <td>111556</td>\n",
              "      <td>FEMALE</td>\n",
              "      <td>49</td>\n",
              "      <td>4</td>\n",
              "      <td>2017-06-28</td>\n",
              "      <td>1202</td>\n",
              "      <td>3</td>\n",
              "    </tr>\n",
              "    <tr>\n",
              "      <th>1</th>\n",
              "      <td>111556</td>\n",
              "      <td>FEMALE</td>\n",
              "      <td>49</td>\n",
              "      <td>4</td>\n",
              "      <td>2017-06-27</td>\n",
              "      <td>1202</td>\n",
              "      <td>3</td>\n",
              "    </tr>\n",
              "    <tr>\n",
              "      <th>2</th>\n",
              "      <td>111556</td>\n",
              "      <td>FEMALE</td>\n",
              "      <td>49</td>\n",
              "      <td>4</td>\n",
              "      <td>2017-06-26</td>\n",
              "      <td>1202</td>\n",
              "      <td>0</td>\n",
              "    </tr>\n",
              "    <tr>\n",
              "      <th>3</th>\n",
              "      <td>111556</td>\n",
              "      <td>FEMALE</td>\n",
              "      <td>49</td>\n",
              "      <td>4</td>\n",
              "      <td>2017-06-25</td>\n",
              "      <td>1202</td>\n",
              "      <td>0</td>\n",
              "    </tr>\n",
              "    <tr>\n",
              "      <th>4</th>\n",
              "      <td>111556</td>\n",
              "      <td>FEMALE</td>\n",
              "      <td>49</td>\n",
              "      <td>4</td>\n",
              "      <td>2017-06-24</td>\n",
              "      <td>1202</td>\n",
              "      <td>0</td>\n",
              "    </tr>\n",
              "    <tr>\n",
              "      <th>...</th>\n",
              "      <td>...</td>\n",
              "      <td>...</td>\n",
              "      <td>...</td>\n",
              "      <td>...</td>\n",
              "      <td>...</td>\n",
              "      <td>...</td>\n",
              "      <td>...</td>\n",
              "    </tr>\n",
              "    <tr>\n",
              "      <th>17383</th>\n",
              "      <td>998229</td>\n",
              "      <td>MALE</td>\n",
              "      <td>31</td>\n",
              "      <td>0</td>\n",
              "      <td>2017-06-26</td>\n",
              "      <td>5423</td>\n",
              "      <td>5</td>\n",
              "    </tr>\n",
              "    <tr>\n",
              "      <th>17384</th>\n",
              "      <td>998229</td>\n",
              "      <td>MALE</td>\n",
              "      <td>31</td>\n",
              "      <td>0</td>\n",
              "      <td>2017-06-25</td>\n",
              "      <td>5423</td>\n",
              "      <td>5</td>\n",
              "    </tr>\n",
              "    <tr>\n",
              "      <th>17385</th>\n",
              "      <td>998229</td>\n",
              "      <td>MALE</td>\n",
              "      <td>31</td>\n",
              "      <td>0</td>\n",
              "      <td>2017-06-24</td>\n",
              "      <td>5423</td>\n",
              "      <td>9</td>\n",
              "    </tr>\n",
              "    <tr>\n",
              "      <th>17386</th>\n",
              "      <td>998229</td>\n",
              "      <td>MALE</td>\n",
              "      <td>31</td>\n",
              "      <td>0</td>\n",
              "      <td>2017-06-23</td>\n",
              "      <td>5423</td>\n",
              "      <td>6</td>\n",
              "    </tr>\n",
              "    <tr>\n",
              "      <th>17387</th>\n",
              "      <td>998229</td>\n",
              "      <td>MALE</td>\n",
              "      <td>31</td>\n",
              "      <td>0</td>\n",
              "      <td>2017-06-22</td>\n",
              "      <td>5423</td>\n",
              "      <td>8</td>\n",
              "    </tr>\n",
              "  </tbody>\n",
              "</table>\n",
              "<p>17388 rows × 7 columns</p>\n",
              "</div>"
            ],
            "text/plain": [
              "           id  gender  age  ...       Date No_Of_Past_logins  online_hours\n",
              "0      111556  FEMALE   49  ... 2017-06-28              1202             3\n",
              "1      111556  FEMALE   49  ... 2017-06-27              1202             3\n",
              "2      111556  FEMALE   49  ... 2017-06-26              1202             0\n",
              "3      111556  FEMALE   49  ... 2017-06-25              1202             0\n",
              "4      111556  FEMALE   49  ... 2017-06-24              1202             0\n",
              "...       ...     ...  ...  ...        ...               ...           ...\n",
              "17383  998229    MALE   31  ... 2017-06-26              5423             5\n",
              "17384  998229    MALE   31  ... 2017-06-25              5423             5\n",
              "17385  998229    MALE   31  ... 2017-06-24              5423             9\n",
              "17386  998229    MALE   31  ... 2017-06-23              5423             6\n",
              "17387  998229    MALE   31  ... 2017-06-22              5423             8\n",
              "\n",
              "[17388 rows x 7 columns]"
            ]
          },
          "metadata": {
            "tags": []
          },
          "execution_count": 42
        }
      ]
    },
    {
      "cell_type": "markdown",
      "metadata": {
        "id": "ff6_tb5win2n"
      },
      "source": [
        "**Fetching X-feature vector & Y- output (online_hours)**"
      ]
    },
    {
      "cell_type": "code",
      "metadata": {
        "id": "dyPL_c_w9msy"
      },
      "source": [
        "X=final.iloc[:,:-1]\n",
        "Y=final.iloc[:,6]\n"
      ],
      "execution_count": null,
      "outputs": []
    },
    {
      "cell_type": "markdown",
      "metadata": {
        "id": "qT7TqlS_izMh"
      },
      "source": [
        "**Taking Date as any feature is not a good idea.**\n",
        "**converting date to numeric values**"
      ]
    },
    {
      "cell_type": "code",
      "metadata": {
        "id": "1WYOTWrmr_dB",
        "colab": {
          "base_uri": "https://localhost:8080/",
          "height": 419
        },
        "outputId": "24bb92d2-e7c4-4386-eba7-919ef374fcac"
      },
      "source": [
        "X['Date']=X['Date'].map(dt.datetime.toordinal)\n",
        "\n",
        "#convert gender column to one hot encoding\n",
        "gender=pd.get_dummies(X[\"gender\"],drop_first=True)\n",
        "\n",
        "# drop gender column \n",
        "X.drop(\"gender\",axis=1,inplace=True)\n",
        "\n",
        "#concat the dummy variables\n",
        "X=pd.concat([X,gender],axis=1)\n",
        "\n",
        "\n",
        "X\n"
      ],
      "execution_count": null,
      "outputs": [
        {
          "output_type": "execute_result",
          "data": {
            "text/html": [
              "<div>\n",
              "<style scoped>\n",
              "    .dataframe tbody tr th:only-of-type {\n",
              "        vertical-align: middle;\n",
              "    }\n",
              "\n",
              "    .dataframe tbody tr th {\n",
              "        vertical-align: top;\n",
              "    }\n",
              "\n",
              "    .dataframe thead th {\n",
              "        text-align: right;\n",
              "    }\n",
              "</style>\n",
              "<table border=\"1\" class=\"dataframe\">\n",
              "  <thead>\n",
              "    <tr style=\"text-align: right;\">\n",
              "      <th></th>\n",
              "      <th>id</th>\n",
              "      <th>age</th>\n",
              "      <th>number_of_kids</th>\n",
              "      <th>Date</th>\n",
              "      <th>No_Of_Past_logins</th>\n",
              "      <th>MALE</th>\n",
              "    </tr>\n",
              "  </thead>\n",
              "  <tbody>\n",
              "    <tr>\n",
              "      <th>0</th>\n",
              "      <td>111556</td>\n",
              "      <td>49</td>\n",
              "      <td>4</td>\n",
              "      <td>736508</td>\n",
              "      <td>1202</td>\n",
              "      <td>0</td>\n",
              "    </tr>\n",
              "    <tr>\n",
              "      <th>1</th>\n",
              "      <td>111556</td>\n",
              "      <td>49</td>\n",
              "      <td>4</td>\n",
              "      <td>736507</td>\n",
              "      <td>1202</td>\n",
              "      <td>0</td>\n",
              "    </tr>\n",
              "    <tr>\n",
              "      <th>2</th>\n",
              "      <td>111556</td>\n",
              "      <td>49</td>\n",
              "      <td>4</td>\n",
              "      <td>736506</td>\n",
              "      <td>1202</td>\n",
              "      <td>0</td>\n",
              "    </tr>\n",
              "    <tr>\n",
              "      <th>3</th>\n",
              "      <td>111556</td>\n",
              "      <td>49</td>\n",
              "      <td>4</td>\n",
              "      <td>736505</td>\n",
              "      <td>1202</td>\n",
              "      <td>0</td>\n",
              "    </tr>\n",
              "    <tr>\n",
              "      <th>4</th>\n",
              "      <td>111556</td>\n",
              "      <td>49</td>\n",
              "      <td>4</td>\n",
              "      <td>736504</td>\n",
              "      <td>1202</td>\n",
              "      <td>0</td>\n",
              "    </tr>\n",
              "    <tr>\n",
              "      <th>...</th>\n",
              "      <td>...</td>\n",
              "      <td>...</td>\n",
              "      <td>...</td>\n",
              "      <td>...</td>\n",
              "      <td>...</td>\n",
              "      <td>...</td>\n",
              "    </tr>\n",
              "    <tr>\n",
              "      <th>17383</th>\n",
              "      <td>998229</td>\n",
              "      <td>31</td>\n",
              "      <td>0</td>\n",
              "      <td>736506</td>\n",
              "      <td>5423</td>\n",
              "      <td>1</td>\n",
              "    </tr>\n",
              "    <tr>\n",
              "      <th>17384</th>\n",
              "      <td>998229</td>\n",
              "      <td>31</td>\n",
              "      <td>0</td>\n",
              "      <td>736505</td>\n",
              "      <td>5423</td>\n",
              "      <td>1</td>\n",
              "    </tr>\n",
              "    <tr>\n",
              "      <th>17385</th>\n",
              "      <td>998229</td>\n",
              "      <td>31</td>\n",
              "      <td>0</td>\n",
              "      <td>736504</td>\n",
              "      <td>5423</td>\n",
              "      <td>1</td>\n",
              "    </tr>\n",
              "    <tr>\n",
              "      <th>17386</th>\n",
              "      <td>998229</td>\n",
              "      <td>31</td>\n",
              "      <td>0</td>\n",
              "      <td>736503</td>\n",
              "      <td>5423</td>\n",
              "      <td>1</td>\n",
              "    </tr>\n",
              "    <tr>\n",
              "      <th>17387</th>\n",
              "      <td>998229</td>\n",
              "      <td>31</td>\n",
              "      <td>0</td>\n",
              "      <td>736502</td>\n",
              "      <td>5423</td>\n",
              "      <td>1</td>\n",
              "    </tr>\n",
              "  </tbody>\n",
              "</table>\n",
              "<p>17388 rows × 6 columns</p>\n",
              "</div>"
            ],
            "text/plain": [
              "           id  age  number_of_kids    Date  No_Of_Past_logins  MALE\n",
              "0      111556   49               4  736508               1202     0\n",
              "1      111556   49               4  736507               1202     0\n",
              "2      111556   49               4  736506               1202     0\n",
              "3      111556   49               4  736505               1202     0\n",
              "4      111556   49               4  736504               1202     0\n",
              "...       ...  ...             ...     ...                ...   ...\n",
              "17383  998229   31               0  736506               5423     1\n",
              "17384  998229   31               0  736505               5423     1\n",
              "17385  998229   31               0  736504               5423     1\n",
              "17386  998229   31               0  736503               5423     1\n",
              "17387  998229   31               0  736502               5423     1\n",
              "\n",
              "[17388 rows x 6 columns]"
            ]
          },
          "metadata": {
            "tags": []
          },
          "execution_count": 82
        }
      ]
    },
    {
      "cell_type": "code",
      "metadata": {
        "id": "RD2eC8mg-2_J"
      },
      "source": [
        "# Splitting the dataset into the Training set and Test set\n",
        "from sklearn.model_selection import train_test_split\n",
        "X_train, X_test, y_train, y_test = train_test_split(X, Y, test_size = 0.2, random_state = 0)\n",
        "\n",
        "# Fitting Multiple Linear Regression to the Training set\n",
        "from sklearn.linear_model import LinearRegression\n",
        "regressor = LinearRegression()\n",
        "regressor.fit(X_train, y_train)\n",
        "\n",
        "# Predicting the Test set results\n",
        "y_pred = regressor.predict(X_test)\n",
        "\n",
        "from sklearn.metrics import r2_score\n",
        "score=r2_score(y_test,y_pred)"
      ],
      "execution_count": null,
      "outputs": []
    },
    {
      "cell_type": "code",
      "metadata": {
        "colab": {
          "base_uri": "https://localhost:8080/"
        },
        "id": "C8kbzpCw_rlX",
        "outputId": "85d0ebe4-3895-4daa-c8ab-7085a06b4403"
      },
      "source": [
        "score"
      ],
      "execution_count": null,
      "outputs": [
        {
          "output_type": "execute_result",
          "data": {
            "text/plain": [
              "0.3931253343637646"
            ]
          },
          "metadata": {
            "tags": []
          },
          "execution_count": 79
        }
      ]
    },
    {
      "cell_type": "code",
      "metadata": {
        "colab": {
          "base_uri": "https://localhost:8080/"
        },
        "id": "YVi2_841DILV",
        "outputId": "1f229400-4dbd-4047-b1a0-6f00ce819f56"
      },
      "source": [
        "from sklearn.metrics import mean_squared_error\n",
        "\n",
        "rms = mean_squared_error(y_test,y_pred, squared=False)\n",
        "rms"
      ],
      "execution_count": null,
      "outputs": [
        {
          "output_type": "execute_result",
          "data": {
            "text/plain": [
              "2.637536591333218"
            ]
          },
          "metadata": {
            "tags": []
          },
          "execution_count": 80
        }
      ]
    },
    {
      "cell_type": "code",
      "metadata": {
        "colab": {
          "base_uri": "https://localhost:8080/"
        },
        "id": "5XmaakWyDvhZ",
        "outputId": "f8c5fcca-cc75-4db3-9397-bed6190e12e4"
      },
      "source": [
        "from sklearn.model_selection import train_test_split\n",
        "X_train, X_test, y_train, y_test = train_test_split(X, Y, test_size = 0.2, random_state = 0)\n",
        "\n",
        "from sklearn.tree import DecisionTreeRegressor\n",
        "#DecisionTreeRegressor class has many parameters. Input only #random_state=0 or 42.\n",
        "regressor = DecisionTreeRegressor(random_state=0)\n",
        "#Fit the regressor object to the dataset.\n",
        "regressor.fit(X,Y)\n",
        "\n",
        "y_pred1 = regressor.predict(X_test)\n",
        "\n",
        "from sklearn.metrics import r2_score\n",
        "score1=r2_score(y_test,y_pred1)\n",
        "print(\"R-SQURE ERROR IS :\",score1)\n",
        "\n",
        "rms1 = mean_squared_error(y_test,y_pred1, squared=False)\n",
        "print(\"RMS ERROR IS \",rms1)"
      ],
      "execution_count": null,
      "outputs": [
        {
          "output_type": "stream",
          "text": [
            "R-SQURE ERROR IS : 0.9986957051272398\n",
            "RMS ERROR IS  0.12227477799652739\n"
          ],
          "name": "stdout"
        }
      ]
    },
    {
      "cell_type": "code",
      "metadata": {
        "id": "RDsrJQ2nL8Y7"
      },
      "source": [
        ""
      ],
      "execution_count": null,
      "outputs": []
    }
  ]
}