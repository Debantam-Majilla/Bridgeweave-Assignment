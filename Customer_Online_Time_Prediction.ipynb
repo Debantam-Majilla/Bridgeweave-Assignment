{
  "nbformat": 4,
  "nbformat_minor": 0,
  "metadata": {
    "colab": {
      "name": "Customer Online Time Prediction.ipynb",
      "provenance": [],
      "collapsed_sections": [],
      "authorship_tag": "ABX9TyOqhfseJ3f3rXSB+X/QkVFT",
      "include_colab_link": true
    },
    "kernelspec": {
      "name": "python3",
      "display_name": "Python 3"
    },
    "language_info": {
      "name": "python"
    },
    "accelerator": "GPU"
  },
  "cells": [
    {
      "cell_type": "markdown",
      "metadata": {
        "id": "view-in-github",
        "colab_type": "text"
      },
      "source": [
        "<a href=\"https://colab.research.google.com/github/Debantam-Majilla/Bridgeweave-Assignment/blob/main/Customer_Online_Time_Prediction.ipynb\" target=\"_parent\"><img src=\"https://colab.research.google.com/assets/colab-badge.svg\" alt=\"Open In Colab\"/></a>"
      ]
    },
    {
      "cell_type": "code",
      "metadata": {
        "colab": {
          "base_uri": "https://localhost:8080/"
        },
        "id": "za3c4KnKrRpp",
        "outputId": "41e15ad2-9434-488d-e915-17d8a58d769b"
      },
      "source": [
        "import warnings                        # To ignore any warnings\n",
        "warnings.filterwarnings(\"ignore\")\n",
        "%matplotlib inline\n",
        "%pylab inline\n",
        "\n",
        "import os\n",
        "import pandas as pd\n",
        "import numpy as np\n",
        "\n",
        "import glob \n",
        "import matplotlib.pyplot as plt\n",
        "import seaborn as sns\n",
        "%config InlineBackend.figure_format = 'retina'"
      ],
      "execution_count": 2,
      "outputs": [
        {
          "output_type": "stream",
          "text": [
            "Populating the interactive namespace from numpy and matplotlib\n"
          ],
          "name": "stdout"
        }
      ]
    },
    {
      "cell_type": "markdown",
      "metadata": {
        "id": "jS8kgYdYOrVj"
      },
      "source": [
        "**Importing Customer Dataset**\n"
      ]
    },
    {
      "cell_type": "code",
      "metadata": {
        "colab": {
          "base_uri": "https://localhost:8080/"
        },
        "id": "q18ZJiLzr9Fe",
        "outputId": "8123ef12-6600-4eab-dc17-2000d9f2719a"
      },
      "source": [
        "customer=pd.read_csv(\"/content/sample_data/customers.csv\")\n",
        "print(\"Shape of customers table :\",customer.shape)\n",
        "print(\"\\n\")\n",
        "print(customer.head())"
      ],
      "execution_count": 3,
      "outputs": [
        {
          "output_type": "stream",
          "text": [
            "Shape of customers table : (2500, 4)\n",
            "\n",
            "\n",
            "       id gender  age  number_of_kids\n",
            "0  979863   MALE   26               2\n",
            "1  780123   MALE   60               2\n",
            "2  614848   MALE   45               4\n",
            "3  775046   MALE   62               3\n",
            "4  991601   MALE   23               0\n"
          ],
          "name": "stdout"
        }
      ]
    },
    {
      "cell_type": "markdown",
      "metadata": {
        "id": "1uU86T4ePHa7"
      },
      "source": [
        "**Checking for any null values.**\n",
        "\n",
        "-Turns out- No null values .Customer Data is well structured."
      ]
    },
    {
      "cell_type": "code",
      "metadata": {
        "colab": {
          "base_uri": "https://localhost:8080/"
        },
        "id": "um5ViZ9NO9jH",
        "outputId": "463b09f6-c59a-4305-f601-298c60524ffa"
      },
      "source": [
        "customer.isnull().sum()"
      ],
      "execution_count": 4,
      "outputs": [
        {
          "output_type": "execute_result",
          "data": {
            "text/plain": [
              "id                0\n",
              "gender            0\n",
              "age               0\n",
              "number_of_kids    0\n",
              "dtype: int64"
            ]
          },
          "metadata": {
            "tags": []
          },
          "execution_count": 4
        }
      ]
    },
    {
      "cell_type": "markdown",
      "metadata": {
        "id": "Fy9j_HpIQTvP"
      },
      "source": [
        "Importing ping dataset \n",
        "\n",
        "\n",
        "1.   **Timestamps need to convert to Datetime format.**\n",
        "2.   **We can segment hour portion from datetime format**\n",
        "3.   **We can understand On which hour of days, most log-ins happened.**\n",
        "4.   **We can use No of Logins at past for each id ,to be a feature of our prediction.**\n",
        "\n"
      ]
    },
    {
      "cell_type": "code",
      "metadata": {
        "id": "vbhIidsGuGZU",
        "colab": {
          "base_uri": "https://localhost:8080/"
        },
        "outputId": "99fa4b6f-96e4-44a6-a63e-35a693199f6a"
      },
      "source": [
        "ping=pd.read_csv(\"/content/sample_data/pings.csv\")\n",
        "print(\"Shape of customers table :\",ping.shape)\n",
        "print(\"\\n\")\n",
        "\n"
      ],
      "execution_count": 52,
      "outputs": [
        {
          "output_type": "stream",
          "text": [
            "Shape of customers table : (19573418, 2)\n",
            "\n",
            "\n"
          ],
          "name": "stdout"
        }
      ]
    },
    {
      "cell_type": "markdown",
      "metadata": {
        "id": "xA199XkSpKwp"
      },
      "source": [
        "**Taking No of Log-in per ID as a feature for our model** "
      ]
    },
    {
      "cell_type": "code",
      "metadata": {
        "colab": {
          "base_uri": "https://localhost:8080/",
          "height": 419
        },
        "id": "SGQ-RCWKpJ5T",
        "outputId": "237492a4-eb70-46cd-cfe2-ec422ac1376f"
      },
      "source": [
        "no_logins=ping.groupby([\"id\"])[\"timestamp\"].count().reset_index()\n",
        "no_logins.columns=[\"id\",\"No_Of_Past_logins\"]\n",
        "no_logins"
      ],
      "execution_count": 53,
      "outputs": [
        {
          "output_type": "execute_result",
          "data": {
            "text/html": [
              "<div>\n",
              "<style scoped>\n",
              "    .dataframe tbody tr th:only-of-type {\n",
              "        vertical-align: middle;\n",
              "    }\n",
              "\n",
              "    .dataframe tbody tr th {\n",
              "        vertical-align: top;\n",
              "    }\n",
              "\n",
              "    .dataframe thead th {\n",
              "        text-align: right;\n",
              "    }\n",
              "</style>\n",
              "<table border=\"1\" class=\"dataframe\">\n",
              "  <thead>\n",
              "    <tr style=\"text-align: right;\">\n",
              "      <th></th>\n",
              "      <th>id</th>\n",
              "      <th>No_Of_Past_logins</th>\n",
              "    </tr>\n",
              "  </thead>\n",
              "  <tbody>\n",
              "    <tr>\n",
              "      <th>0</th>\n",
              "      <td>111556</td>\n",
              "      <td>4276</td>\n",
              "    </tr>\n",
              "    <tr>\n",
              "      <th>1</th>\n",
              "      <td>111575</td>\n",
              "      <td>7203</td>\n",
              "    </tr>\n",
              "    <tr>\n",
              "      <th>2</th>\n",
              "      <td>111779</td>\n",
              "      <td>3809</td>\n",
              "    </tr>\n",
              "    <tr>\n",
              "      <th>3</th>\n",
              "      <td>111839</td>\n",
              "      <td>13560</td>\n",
              "    </tr>\n",
              "    <tr>\n",
              "      <th>4</th>\n",
              "      <td>112486</td>\n",
              "      <td>5205</td>\n",
              "    </tr>\n",
              "    <tr>\n",
              "      <th>...</th>\n",
              "      <td>...</td>\n",
              "      <td>...</td>\n",
              "    </tr>\n",
              "    <tr>\n",
              "      <th>2475</th>\n",
              "      <td>997190</td>\n",
              "      <td>4073</td>\n",
              "    </tr>\n",
              "    <tr>\n",
              "      <th>2476</th>\n",
              "      <td>997500</td>\n",
              "      <td>9014</td>\n",
              "    </tr>\n",
              "    <tr>\n",
              "      <th>2477</th>\n",
              "      <td>997510</td>\n",
              "      <td>10172</td>\n",
              "    </tr>\n",
              "    <tr>\n",
              "      <th>2478</th>\n",
              "      <td>998215</td>\n",
              "      <td>5699</td>\n",
              "    </tr>\n",
              "    <tr>\n",
              "      <th>2479</th>\n",
              "      <td>998229</td>\n",
              "      <td>12951</td>\n",
              "    </tr>\n",
              "  </tbody>\n",
              "</table>\n",
              "<p>2480 rows × 2 columns</p>\n",
              "</div>"
            ],
            "text/plain": [
              "          id  No_Of_Past_logins\n",
              "0     111556               4276\n",
              "1     111575               7203\n",
              "2     111779               3809\n",
              "3     111839              13560\n",
              "4     112486               5205\n",
              "...      ...                ...\n",
              "2475  997190               4073\n",
              "2476  997500               9014\n",
              "2477  997510              10172\n",
              "2478  998215               5699\n",
              "2479  998229              12951\n",
              "\n",
              "[2480 rows x 2 columns]"
            ]
          },
          "metadata": {
            "tags": []
          },
          "execution_count": 53
        }
      ]
    },
    {
      "cell_type": "code",
      "metadata": {
        "id": "7XpjcZG6ymKk",
        "colab": {
          "base_uri": "https://localhost:8080/",
          "height": 204
        },
        "outputId": "c87003d5-09f3-48d0-d33e-48ba8c1807d3"
      },
      "source": [
        "import dateutil.parser\n",
        "## convert the timestamp to a python date object \n",
        "ping['Time'] = list(map(lambda v : datetime.datetime.fromtimestamp(v).strftime('%Y-%m-%d %H:%M:%S'), ping['timestamp']))\n",
        "ping['times'] = list(map(dateutil.parser.parse, ping['Time']))\n",
        "\n",
        "ping['hour'] = list(map(lambda v : v.hour, ping['times']))\n",
        "ping['day'] = list(map(lambda v : v.day, ping['times']))\n",
        "ping.head()"
      ],
      "execution_count": 8,
      "outputs": [
        {
          "output_type": "execute_result",
          "data": {
            "text/html": [
              "<div>\n",
              "<style scoped>\n",
              "    .dataframe tbody tr th:only-of-type {\n",
              "        vertical-align: middle;\n",
              "    }\n",
              "\n",
              "    .dataframe tbody tr th {\n",
              "        vertical-align: top;\n",
              "    }\n",
              "\n",
              "    .dataframe thead th {\n",
              "        text-align: right;\n",
              "    }\n",
              "</style>\n",
              "<table border=\"1\" class=\"dataframe\">\n",
              "  <thead>\n",
              "    <tr style=\"text-align: right;\">\n",
              "      <th></th>\n",
              "      <th>id</th>\n",
              "      <th>timestamp</th>\n",
              "      <th>Time</th>\n",
              "      <th>times</th>\n",
              "      <th>hour</th>\n",
              "      <th>day</th>\n",
              "    </tr>\n",
              "  </thead>\n",
              "  <tbody>\n",
              "    <tr>\n",
              "      <th>0</th>\n",
              "      <td>899313</td>\n",
              "      <td>1496278800</td>\n",
              "      <td>2017-06-01 01:00:00</td>\n",
              "      <td>2017-06-01 01:00:00</td>\n",
              "      <td>1</td>\n",
              "      <td>1</td>\n",
              "    </tr>\n",
              "    <tr>\n",
              "      <th>1</th>\n",
              "      <td>373017</td>\n",
              "      <td>1496278800</td>\n",
              "      <td>2017-06-01 01:00:00</td>\n",
              "      <td>2017-06-01 01:00:00</td>\n",
              "      <td>1</td>\n",
              "      <td>1</td>\n",
              "    </tr>\n",
              "    <tr>\n",
              "      <th>2</th>\n",
              "      <td>798984</td>\n",
              "      <td>1496278800</td>\n",
              "      <td>2017-06-01 01:00:00</td>\n",
              "      <td>2017-06-01 01:00:00</td>\n",
              "      <td>1</td>\n",
              "      <td>1</td>\n",
              "    </tr>\n",
              "    <tr>\n",
              "      <th>3</th>\n",
              "      <td>245966</td>\n",
              "      <td>1496278800</td>\n",
              "      <td>2017-06-01 01:00:00</td>\n",
              "      <td>2017-06-01 01:00:00</td>\n",
              "      <td>1</td>\n",
              "      <td>1</td>\n",
              "    </tr>\n",
              "    <tr>\n",
              "      <th>4</th>\n",
              "      <td>689783</td>\n",
              "      <td>1496278800</td>\n",
              "      <td>2017-06-01 01:00:00</td>\n",
              "      <td>2017-06-01 01:00:00</td>\n",
              "      <td>1</td>\n",
              "      <td>1</td>\n",
              "    </tr>\n",
              "  </tbody>\n",
              "</table>\n",
              "</div>"
            ],
            "text/plain": [
              "       id   timestamp                 Time               times  hour  day\n",
              "0  899313  1496278800  2017-06-01 01:00:00 2017-06-01 01:00:00     1    1\n",
              "1  373017  1496278800  2017-06-01 01:00:00 2017-06-01 01:00:00     1    1\n",
              "2  798984  1496278800  2017-06-01 01:00:00 2017-06-01 01:00:00     1    1\n",
              "3  245966  1496278800  2017-06-01 01:00:00 2017-06-01 01:00:00     1    1\n",
              "4  689783  1496278800  2017-06-01 01:00:00 2017-06-01 01:00:00     1    1"
            ]
          },
          "metadata": {
            "tags": []
          },
          "execution_count": 8
        }
      ]
    },
    {
      "cell_type": "markdown",
      "metadata": {
        "id": "QG0XRO-iR1C-"
      },
      "source": [
        "**Below cell is giving us- Mostly users loggedin at 2PM or 3 PM of any day.**"
      ]
    },
    {
      "cell_type": "code",
      "metadata": {
        "colab": {
          "base_uri": "https://localhost:8080/",
          "height": 111
        },
        "id": "8f5vQJaCzUPO",
        "outputId": "eb868abc-3195-43f7-e028-67b60bb87713"
      },
      "source": [
        "aggregatedData = ping[[\"hour\",\"day\",\"id\"]].groupby(['hour', 'day']).agg(['count'])\n",
        "    \n",
        "aggregatedData = aggregatedData.reset_index()\n",
        "aggregatedData.columns = ['hour','day','app_openings']\n",
        "aggregatedData\n",
        "\n",
        "#From this we can understand that users generrally logs in to our app mostly at 2PM or 3 PM"
      ],
      "execution_count": 9,
      "outputs": [
        {
          "output_type": "execute_result",
          "data": {
            "text/html": [
              "<div>\n",
              "<style scoped>\n",
              "    .dataframe tbody tr th:only-of-type {\n",
              "        vertical-align: middle;\n",
              "    }\n",
              "\n",
              "    .dataframe tbody tr th {\n",
              "        vertical-align: top;\n",
              "    }\n",
              "\n",
              "    .dataframe thead th {\n",
              "        text-align: right;\n",
              "    }\n",
              "</style>\n",
              "<table border=\"1\" class=\"dataframe\">\n",
              "  <thead>\n",
              "    <tr style=\"text-align: right;\">\n",
              "      <th></th>\n",
              "      <th>hour</th>\n",
              "      <th>day</th>\n",
              "      <th>app_openings</th>\n",
              "    </tr>\n",
              "  </thead>\n",
              "  <tbody>\n",
              "    <tr>\n",
              "      <th>0</th>\n",
              "      <td>1</td>\n",
              "      <td>1</td>\n",
              "      <td>54871</td>\n",
              "    </tr>\n",
              "    <tr>\n",
              "      <th>1</th>\n",
              "      <td>2</td>\n",
              "      <td>1</td>\n",
              "      <td>119891</td>\n",
              "    </tr>\n",
              "  </tbody>\n",
              "</table>\n",
              "</div>"
            ],
            "text/plain": [
              "   hour  day  app_openings\n",
              "0     1    1         54871\n",
              "1     2    1        119891"
            ]
          },
          "metadata": {
            "tags": []
          },
          "execution_count": 9
        }
      ]
    },
    {
      "cell_type": "markdown",
      "metadata": {
        "id": "sWONGnm8SfDp"
      },
      "source": [
        "**Importing test dataset (supervised dataset)**"
      ]
    },
    {
      "cell_type": "code",
      "metadata": {
        "colab": {
          "base_uri": "https://localhost:8080/",
          "height": 419
        },
        "id": "RN8KIp3nvMee",
        "outputId": "54f5a891-d455-4f84-d5f4-1f831213543b"
      },
      "source": [
        "test=pd.read_csv(\"/content/sample_data/test.csv\")\n",
        "test"
      ],
      "execution_count": 11,
      "outputs": [
        {
          "output_type": "execute_result",
          "data": {
            "text/html": [
              "<div>\n",
              "<style scoped>\n",
              "    .dataframe tbody tr th:only-of-type {\n",
              "        vertical-align: middle;\n",
              "    }\n",
              "\n",
              "    .dataframe tbody tr th {\n",
              "        vertical-align: top;\n",
              "    }\n",
              "\n",
              "    .dataframe thead th {\n",
              "        text-align: right;\n",
              "    }\n",
              "</style>\n",
              "<table border=\"1\" class=\"dataframe\">\n",
              "  <thead>\n",
              "    <tr style=\"text-align: right;\">\n",
              "      <th></th>\n",
              "      <th>id</th>\n",
              "      <th>date</th>\n",
              "      <th>online_hours</th>\n",
              "    </tr>\n",
              "  </thead>\n",
              "  <tbody>\n",
              "    <tr>\n",
              "      <th>0</th>\n",
              "      <td>979863</td>\n",
              "      <td>28/06/17</td>\n",
              "      <td>7</td>\n",
              "    </tr>\n",
              "    <tr>\n",
              "      <th>1</th>\n",
              "      <td>979863</td>\n",
              "      <td>27/06/17</td>\n",
              "      <td>9</td>\n",
              "    </tr>\n",
              "    <tr>\n",
              "      <th>2</th>\n",
              "      <td>979863</td>\n",
              "      <td>26/06/17</td>\n",
              "      <td>9</td>\n",
              "    </tr>\n",
              "    <tr>\n",
              "      <th>3</th>\n",
              "      <td>979863</td>\n",
              "      <td>25/06/17</td>\n",
              "      <td>10</td>\n",
              "    </tr>\n",
              "    <tr>\n",
              "      <th>4</th>\n",
              "      <td>979863</td>\n",
              "      <td>24/06/17</td>\n",
              "      <td>9</td>\n",
              "    </tr>\n",
              "    <tr>\n",
              "      <th>...</th>\n",
              "      <td>...</td>\n",
              "      <td>...</td>\n",
              "      <td>...</td>\n",
              "    </tr>\n",
              "    <tr>\n",
              "      <th>17495</th>\n",
              "      <td>165666</td>\n",
              "      <td>26/06/17</td>\n",
              "      <td>7</td>\n",
              "    </tr>\n",
              "    <tr>\n",
              "      <th>17496</th>\n",
              "      <td>165666</td>\n",
              "      <td>25/06/17</td>\n",
              "      <td>7</td>\n",
              "    </tr>\n",
              "    <tr>\n",
              "      <th>17497</th>\n",
              "      <td>165666</td>\n",
              "      <td>24/06/17</td>\n",
              "      <td>10</td>\n",
              "    </tr>\n",
              "    <tr>\n",
              "      <th>17498</th>\n",
              "      <td>165666</td>\n",
              "      <td>23/06/17</td>\n",
              "      <td>6</td>\n",
              "    </tr>\n",
              "    <tr>\n",
              "      <th>17499</th>\n",
              "      <td>165666</td>\n",
              "      <td>22/06/17</td>\n",
              "      <td>10</td>\n",
              "    </tr>\n",
              "  </tbody>\n",
              "</table>\n",
              "<p>17500 rows × 3 columns</p>\n",
              "</div>"
            ],
            "text/plain": [
              "           id      date  online_hours\n",
              "0      979863  28/06/17             7\n",
              "1      979863  27/06/17             9\n",
              "2      979863  26/06/17             9\n",
              "3      979863  25/06/17            10\n",
              "4      979863  24/06/17             9\n",
              "...       ...       ...           ...\n",
              "17495  165666  26/06/17             7\n",
              "17496  165666  25/06/17             7\n",
              "17497  165666  24/06/17            10\n",
              "17498  165666  23/06/17             6\n",
              "17499  165666  22/06/17            10\n",
              "\n",
              "[17500 rows x 3 columns]"
            ]
          },
          "metadata": {
            "tags": []
          },
          "execution_count": 11
        }
      ]
    },
    {
      "cell_type": "markdown",
      "metadata": {
        "id": "vuYCFQ5aiRLP"
      },
      "source": [
        "**Merging Customer table , Test Table & newly generated No of Log_in table for each ID**"
      ]
    },
    {
      "cell_type": "code",
      "metadata": {
        "colab": {
          "base_uri": "https://localhost:8080/",
          "height": 419
        },
        "id": "SKHc0PoEvTH1",
        "outputId": "4b583d5f-3318-46e2-816d-0729121cd548"
      },
      "source": [
        "df1=pd.merge(customer,test)\n",
        "\n",
        "import datetime as dt\n",
        "df1['Date'] = pd.to_datetime(df1['date'])\n",
        "\n",
        "final=pd.merge(no_logins,df1).iloc[:,[0,2,3,4,7,1,6]]\n",
        "final"
      ],
      "execution_count": 54,
      "outputs": [
        {
          "output_type": "execute_result",
          "data": {
            "text/html": [
              "<div>\n",
              "<style scoped>\n",
              "    .dataframe tbody tr th:only-of-type {\n",
              "        vertical-align: middle;\n",
              "    }\n",
              "\n",
              "    .dataframe tbody tr th {\n",
              "        vertical-align: top;\n",
              "    }\n",
              "\n",
              "    .dataframe thead th {\n",
              "        text-align: right;\n",
              "    }\n",
              "</style>\n",
              "<table border=\"1\" class=\"dataframe\">\n",
              "  <thead>\n",
              "    <tr style=\"text-align: right;\">\n",
              "      <th></th>\n",
              "      <th>id</th>\n",
              "      <th>gender</th>\n",
              "      <th>age</th>\n",
              "      <th>number_of_kids</th>\n",
              "      <th>Date</th>\n",
              "      <th>No_Of_Past_logins</th>\n",
              "      <th>online_hours</th>\n",
              "    </tr>\n",
              "  </thead>\n",
              "  <tbody>\n",
              "    <tr>\n",
              "      <th>0</th>\n",
              "      <td>111556</td>\n",
              "      <td>FEMALE</td>\n",
              "      <td>49</td>\n",
              "      <td>4</td>\n",
              "      <td>1970-01-01 00:00:00.000719163</td>\n",
              "      <td>4276</td>\n",
              "      <td>3</td>\n",
              "    </tr>\n",
              "    <tr>\n",
              "      <th>1</th>\n",
              "      <td>111556</td>\n",
              "      <td>FEMALE</td>\n",
              "      <td>49</td>\n",
              "      <td>4</td>\n",
              "      <td>1970-01-01 00:00:00.000719163</td>\n",
              "      <td>4276</td>\n",
              "      <td>3</td>\n",
              "    </tr>\n",
              "    <tr>\n",
              "      <th>2</th>\n",
              "      <td>111556</td>\n",
              "      <td>FEMALE</td>\n",
              "      <td>49</td>\n",
              "      <td>4</td>\n",
              "      <td>1970-01-01 00:00:00.000719163</td>\n",
              "      <td>4276</td>\n",
              "      <td>0</td>\n",
              "    </tr>\n",
              "    <tr>\n",
              "      <th>3</th>\n",
              "      <td>111556</td>\n",
              "      <td>FEMALE</td>\n",
              "      <td>49</td>\n",
              "      <td>4</td>\n",
              "      <td>1970-01-01 00:00:00.000719163</td>\n",
              "      <td>4276</td>\n",
              "      <td>0</td>\n",
              "    </tr>\n",
              "    <tr>\n",
              "      <th>4</th>\n",
              "      <td>111556</td>\n",
              "      <td>FEMALE</td>\n",
              "      <td>49</td>\n",
              "      <td>4</td>\n",
              "      <td>1970-01-01 00:00:00.000719163</td>\n",
              "      <td>4276</td>\n",
              "      <td>0</td>\n",
              "    </tr>\n",
              "    <tr>\n",
              "      <th>...</th>\n",
              "      <td>...</td>\n",
              "      <td>...</td>\n",
              "      <td>...</td>\n",
              "      <td>...</td>\n",
              "      <td>...</td>\n",
              "      <td>...</td>\n",
              "      <td>...</td>\n",
              "    </tr>\n",
              "    <tr>\n",
              "      <th>17418</th>\n",
              "      <td>998229</td>\n",
              "      <td>MALE</td>\n",
              "      <td>31</td>\n",
              "      <td>0</td>\n",
              "      <td>1970-01-01 00:00:00.000719163</td>\n",
              "      <td>12951</td>\n",
              "      <td>5</td>\n",
              "    </tr>\n",
              "    <tr>\n",
              "      <th>17419</th>\n",
              "      <td>998229</td>\n",
              "      <td>MALE</td>\n",
              "      <td>31</td>\n",
              "      <td>0</td>\n",
              "      <td>1970-01-01 00:00:00.000719163</td>\n",
              "      <td>12951</td>\n",
              "      <td>5</td>\n",
              "    </tr>\n",
              "    <tr>\n",
              "      <th>17420</th>\n",
              "      <td>998229</td>\n",
              "      <td>MALE</td>\n",
              "      <td>31</td>\n",
              "      <td>0</td>\n",
              "      <td>1970-01-01 00:00:00.000719163</td>\n",
              "      <td>12951</td>\n",
              "      <td>9</td>\n",
              "    </tr>\n",
              "    <tr>\n",
              "      <th>17421</th>\n",
              "      <td>998229</td>\n",
              "      <td>MALE</td>\n",
              "      <td>31</td>\n",
              "      <td>0</td>\n",
              "      <td>1970-01-01 00:00:00.000719163</td>\n",
              "      <td>12951</td>\n",
              "      <td>6</td>\n",
              "    </tr>\n",
              "    <tr>\n",
              "      <th>17422</th>\n",
              "      <td>998229</td>\n",
              "      <td>MALE</td>\n",
              "      <td>31</td>\n",
              "      <td>0</td>\n",
              "      <td>1970-01-01 00:00:00.000719163</td>\n",
              "      <td>12951</td>\n",
              "      <td>8</td>\n",
              "    </tr>\n",
              "  </tbody>\n",
              "</table>\n",
              "<p>17423 rows × 7 columns</p>\n",
              "</div>"
            ],
            "text/plain": [
              "           id  gender  ...  No_Of_Past_logins  online_hours\n",
              "0      111556  FEMALE  ...               4276             3\n",
              "1      111556  FEMALE  ...               4276             3\n",
              "2      111556  FEMALE  ...               4276             0\n",
              "3      111556  FEMALE  ...               4276             0\n",
              "4      111556  FEMALE  ...               4276             0\n",
              "...       ...     ...  ...                ...           ...\n",
              "17418  998229    MALE  ...              12951             5\n",
              "17419  998229    MALE  ...              12951             5\n",
              "17420  998229    MALE  ...              12951             9\n",
              "17421  998229    MALE  ...              12951             6\n",
              "17422  998229    MALE  ...              12951             8\n",
              "\n",
              "[17423 rows x 7 columns]"
            ]
          },
          "metadata": {
            "tags": []
          },
          "execution_count": 54
        }
      ]
    },
    {
      "cell_type": "code",
      "metadata": {
        "colab": {
          "base_uri": "https://localhost:8080/"
        },
        "id": "qFeg038fu8WY",
        "outputId": "0ef30298-819c-4c0d-d7ef-d9e3b968342c"
      },
      "source": [
        "final[\"gender\"].value_counts()#.plot(kind=\"bar\")\n",
        "\n",
        "#Clearly Data is imbalance . Much more Male category than Female category"
      ],
      "execution_count": 55,
      "outputs": [
        {
          "output_type": "execute_result",
          "data": {
            "text/plain": [
              "MALE      13153\n",
              "FEMALE     4270\n",
              "Name: gender, dtype: int64"
            ]
          },
          "metadata": {
            "tags": []
          },
          "execution_count": 55
        }
      ]
    },
    {
      "cell_type": "code",
      "metadata": {
        "colab": {
          "base_uri": "https://localhost:8080/",
          "height": 295
        },
        "id": "yqxl9fRGZDB1",
        "outputId": "f3cadd51-c423-468b-d529-06108a6576aa"
      },
      "source": [
        "# Similarly MALE having more contibution in Online_hours\n",
        "\n",
        "sns.stripplot(x=\"gender\",y=\"online_hours\",data=final)"
      ],
      "execution_count": 56,
      "outputs": [
        {
          "output_type": "execute_result",
          "data": {
            "text/plain": [
              "<matplotlib.axes._subplots.AxesSubplot at 0x7f99324464d0>"
            ]
          },
          "metadata": {
            "tags": []
          },
          "execution_count": 56
        },
        {
          "output_type": "display_data",
          "data": {
            "image/png": "[encoded data removed]",
            "text/plain": [
              "<Figure size 432x288 with 1 Axes>"
            ]
          },
          "metadata": {
            "tags": [],
            "image/png": {
              "width": 383,
              "height": 261
            },
            "needs_background": "light"
          }
        }
      ]
    },
    {
      "cell_type": "markdown",
      "metadata": {
        "id": "ff6_tb5win2n"
      },
      "source": [
        "**Fetching X-feature vector & Y- output (online_hours)**"
      ]
    },
    {
      "cell_type": "code",
      "metadata": {
        "id": "dyPL_c_w9msy"
      },
      "source": [
        "X=final.iloc[:,:-1]\n",
        "Y=final.iloc[:,6]\n"
      ],
      "execution_count": 57,
      "outputs": []
    },
    {
      "cell_type": "markdown",
      "metadata": {
        "id": "qT7TqlS_izMh"
      },
      "source": [
        "**Taking Date as any feature is not a good idea.**\n",
        "**converting date to numeric values**"
      ]
    },
    {
      "cell_type": "code",
      "metadata": {
        "id": "1WYOTWrmr_dB"
      },
      "source": [
        "X['Date']=X['Date'].map(dt.datetime.toordinal)\n",
        "\n",
        "#convert gender column to one hot encoding\n",
        "gender=pd.get_dummies(X[\"gender\"])\n",
        "\n",
        "# drop gender column \n",
        "X.drop(\"gender\",axis=1,inplace=True)\n",
        "\n",
        "#concat the dummy variables\n",
        "X=pd.concat([X,gender],axis=1)\n",
        "\n",
        "\n",
        "from sklearn import preprocessing\n",
        "X = preprocessing.scale(X)\n",
        "Y = preprocessing.scale(Y)"
      ],
      "execution_count": 58,
      "outputs": []
    },
    {
      "cell_type": "code",
      "metadata": {
        "colab": {
          "base_uri": "https://localhost:8080/"
        },
        "id": "nnHjEsj10ZxS",
        "outputId": "09f58435-c6f5-4161-bd0c-79f55e7a4d9e"
      },
      "source": [
        "#scaled features ( MODEL 1 & MODEL 2)\n",
        "X"
      ],
      "execution_count": 18,
      "outputs": [
        {
          "output_type": "execute_result",
          "data": {
            "text/plain": [
              "array([[-1.75168298e+00,  9.45541566e-01,  1.67726950e+00, ...,\n",
              "        -2.71768915e-04,  1.84130128e+00, -1.84130128e+00],\n",
              "       [-1.75168298e+00,  9.45541566e-01,  1.67726950e+00, ...,\n",
              "        -2.71768915e-04,  1.84130128e+00, -1.84130128e+00],\n",
              "       [-1.75168298e+00,  9.45541566e-01,  1.67726950e+00, ...,\n",
              "        -2.71768915e-04,  1.84130128e+00, -1.84130128e+00],\n",
              "       ...,\n",
              "       [ 1.68734024e+00,  1.79189775e+00,  1.03281010e+00, ...,\n",
              "         3.64397441e-01, -5.43094176e-01,  5.43094176e-01],\n",
              "       [ 1.68734024e+00,  1.79189775e+00,  1.03281010e+00, ...,\n",
              "         3.64397441e-01, -5.43094176e-01,  5.43094176e-01],\n",
              "       [ 1.68734024e+00,  1.79189775e+00,  1.03281010e+00, ...,\n",
              "         3.64397441e-01, -5.43094176e-01,  5.43094176e-01]])"
            ]
          },
          "metadata": {
            "tags": []
          },
          "execution_count": 18
        }
      ]
    },
    {
      "cell_type": "markdown",
      "metadata": {
        "id": "MEXCBACUmvCg"
      },
      "source": [
        "**MODEL 1 : Multiple linear Regression**\n",
        "\n",
        "**Data used : Customers + Feature generated from Pings+ test table**\n",
        "\n",
        "**-  R-Squre Error of our model prediction is less than desired.**\n",
        "\n",
        "**-  RMSE is also can be improved.**\n"
      ]
    },
    {
      "cell_type": "code",
      "metadata": {
        "id": "RD2eC8mg-2_J",
        "colab": {
          "base_uri": "https://localhost:8080/"
        },
        "outputId": "54cc9980-13cb-4686-ab72-b50c67cf6cd1"
      },
      "source": [
        "# MODEL 1\n",
        "\n",
        "\n",
        "# Splitting the dataset into the Training set and Test set\n",
        "from sklearn.model_selection import train_test_split\n",
        "X_train, X_test, y_train, y_test = train_test_split(X, Y, test_size = 0.2, random_state = 1)\n",
        "\n",
        "# Fitting Multiple Linear Regression to the Training set\n",
        "from sklearn.linear_model import LinearRegression\n",
        "model1 = LinearRegression()\n",
        "model1.fit(X_train, y_train)\n",
        "\n",
        "# Predicting the Test set results\n",
        "y_pred = model1.predict(X_test)\n",
        "\n",
        "from sklearn.metrics import r2_score\n",
        "score=r2_score(y_test,y_pred)\n",
        "print(\"R-SQURE ERROR IS :\",score)\n",
        "\n",
        "from sklearn.metrics import mean_squared_error\n",
        "rms = mean_squared_error(y_test,y_pred, squared=False)\n",
        "print(\"RMS ERROR IS \",rms)"
      ],
      "execution_count": 59,
      "outputs": [
        {
          "output_type": "stream",
          "text": [
            "R-SQURE ERROR IS : 0.432723136286818\n",
            "RMS ERROR IS  0.7488773358837842\n"
          ],
          "name": "stdout"
        }
      ]
    },
    {
      "cell_type": "markdown",
      "metadata": {
        "id": "BHjJZIDh6SSv"
      },
      "source": [
        "**MODEL 2 : Huber Regression**\n",
        "\n",
        "**Data used : Customers + Feature generated from Pings+ test table**\n",
        "\n",
        "**-  R-Squre Error improved**\n",
        "\n",
        "**-  RMSE is also improved a bit**"
      ]
    },
    {
      "cell_type": "markdown",
      "metadata": {
        "id": "KtEItwAs6pTL"
      },
      "source": [
        "**Huber Regression is a Robust version of Regression Technique which is more Robust to Outliars.**"
      ]
    },
    {
      "cell_type": "code",
      "metadata": {
        "colab": {
          "base_uri": "https://localhost:8080/"
        },
        "id": "38Zpu-4I13g4",
        "outputId": "a1724dd3-d78a-4c11-835f-0bea2af1b8ec"
      },
      "source": [
        "# MODEL 2\n",
        "\n",
        "\n",
        "from sklearn.linear_model import HuberRegressor\n",
        "from sklearn.model_selection import cross_val_score\n",
        "from sklearn.model_selection import RepeatedKFold\n",
        "from sklearn.metrics import mean_squared_error\n",
        "from matplotlib import pyplot\n",
        "\n",
        "from sklearn.linear_model import (LinearRegression, TheilSenRegressor, RANSACRegressor, HuberRegressor)\n",
        "\n",
        "from sklearn.model_selection import train_test_split\n",
        "X_train, X_test, y_train, y_test = train_test_split(X, Y, test_size = 0.2, random_state = 1)\n",
        "\n",
        " \n",
        "# define the model\n",
        "model2 = HuberRegressor()\n",
        "\n",
        "model2.fit(X_train, y_train)\n",
        "\n",
        "# Predicting the Test set results\n",
        "y_pred = model2.predict(X_test)\n",
        "\n",
        "from sklearn.metrics import r2_score\n",
        "score=r2_score(y_test,y_pred)\n",
        "print(\"R-SQURE ERROR IS :\",score)\n",
        "\n",
        "from sklearn.metrics import mean_squared_error\n",
        "rms = mean_squared_error(y_test,y_pred, squared=False)\n",
        "print(\"RMS ERROR IS \",rms)"
      ],
      "execution_count": 60,
      "outputs": [
        {
          "output_type": "stream",
          "text": [
            "R-SQURE ERROR IS : 0.42532489924145966\n",
            "RMS ERROR IS  0.7537448223951649\n"
          ],
          "name": "stdout"
        }
      ]
    },
    {
      "cell_type": "markdown",
      "metadata": {
        "id": "sBtUUYvM7LkZ"
      },
      "source": [
        "Model 3 : Only used test data as input to our model. \n",
        "\n",
        "- I am unable to understand given problem statement , that our model will evaluate Online_hours given Only Id & Date as feature.\n",
        "- If that is the case, what is the use of Pings & Curtomer table.\n",
        "- I am slight confuse at that issue. Thus creating different model for different use case.\n",
        "\n",
        "**Model 1 & Model 2 , if test data contains ID,gender,age,no_of_kids , date & No_login ( from Pings data) as input feature & online_hours as Output feture.**\n",
        "\n",
        "**Model 3 : when ID,Date is input feature & Online_hours as output feature.**"
      ]
    },
    {
      "cell_type": "code",
      "metadata": {
        "colab": {
          "base_uri": "https://localhost:8080/"
        },
        "id": "SZ7pwhVodTs5",
        "outputId": "65e99abc-dc0c-480c-94ac-d8d09f0f315a"
      },
      "source": [
        "#Model 3\n",
        "\n",
        "\n",
        "test['date']=pd.to_datetime(test['date'])\n",
        "test['date']=test['date'].map(dt.datetime.toordinal)\n",
        "\n",
        "X=test.iloc[:,[0,1]]\n",
        "Y=test.iloc[:,:-1]\n",
        "\n",
        "from sklearn import preprocessing\n",
        "X = preprocessing.scale(X)\n",
        "Y = preprocessing.scale(Y)\n",
        "\n",
        "from sklearn.model_selection import train_test_split\n",
        "X_train, X_test, y_train, y_test = train_test_split(X, Y, test_size = 0.3, random_state = 1)\n",
        "\n",
        "# Fitting Multiple Linear Regression to the Training set\n",
        "from sklearn.linear_model import LinearRegression\n",
        "model3 = LinearRegression()\n",
        "model3.fit(X_train, y_train)\n",
        "\n",
        "# Predicting the Test set results\n",
        "y_pred = model3.predict(X_test)\n",
        "\n",
        "from sklearn.metrics import r2_score\n",
        "score=r2_score(y_test,y_pred)\n",
        "print(\"R-SQURE ERROR IS :\",score)\n",
        "\n",
        "from sklearn.metrics import mean_squared_error\n",
        "rms = mean_squared_error(y_test,y_pred, squared=False)\n",
        "print(\"RMS ERROR IS \",rms)\n"
      ],
      "execution_count": 61,
      "outputs": [
        {
          "output_type": "stream",
          "text": [
            "R-SQURE ERROR IS : 1.0\n",
            "RMS ERROR IS  1.5648257758426741e-16\n"
          ],
          "name": "stdout"
        }
      ]
    }
  ]
}